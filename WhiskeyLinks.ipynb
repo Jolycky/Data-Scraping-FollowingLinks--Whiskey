{
 "cells": [
  {
   "cell_type": "code",
   "execution_count": null,
   "metadata": {},
   "outputs": [],
   "source": [
    "import scrapy\n",
    "from scrapy.spiders import CrawlSpider, Rule\n",
    "from scrapy.linkextractors import LinkExtractor"
   ]
  },
  {
   "cell_type": "code",
   "execution_count": null,
   "metadata": {},
   "outputs": [],
   "source": [
    "class LinkSpider(CrawlSpider):\n",
    "    name: 'linkspider'\n",
    "    allowed_domains = ['sipwhiskey.com']\n",
    "    start_urls = ['https://sipwhiskey.com/']\n",
    "\n",
    "    rules = (\n",
    "        Rule(LinkExtractor(allow='collections', deny='products')), \n",
    "        Rule(LinkExtractor(allow='products') callback='parse_item', follow=True)\n",
    "        )\n",
    "\n"
   ]
  },
  {
   "cell_type": "code",
   "execution_count": null,
   "metadata": {},
   "outputs": [],
   "source": [
    "def parse_item(self, response):\n",
    "    yield {\n",
    "        'brand': response.css('div.vendor a::text').get(),"
   ]
  },
  {
   "cell_type": "code",
   "execution_count": null,
   "metadata": {},
   "outputs": [],
   "source": []
  }
 ],
 "metadata": {
  "language_info": {
   "name": "python"
  }
 },
 "nbformat": 4,
 "nbformat_minor": 2
}
